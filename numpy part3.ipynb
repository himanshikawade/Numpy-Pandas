{
 "cells": [
  {
   "cell_type": "code",
   "execution_count": 1,
   "id": "84d888bf-3679-4efe-bd36-971b5e5828b2",
   "metadata": {},
   "outputs": [],
   "source": [
    "import numpy as np"
   ]
  },
  {
   "cell_type": "code",
   "execution_count": 2,
   "id": "ae5a8fc0-0178-4a02-a772-29947f260988",
   "metadata": {},
   "outputs": [],
   "source": [
    "arr=np.random.randint(1,20,(5,6))"
   ]
  },
  {
   "cell_type": "code",
   "execution_count": 3,
   "id": "c1caf7c0-a13e-4c76-b552-1ce8773fc22e",
   "metadata": {},
   "outputs": [
    {
     "data": {
      "text/plain": [
       "array([[14, 15, 19, 16,  2,  7],\n",
       "       [ 9, 17, 14, 12,  4, 19],\n",
       "       [11, 12,  1,  6, 18,  5],\n",
       "       [12,  3, 19,  2, 14, 10],\n",
       "       [ 8,  9,  3,  3,  1, 10]])"
      ]
     },
     "execution_count": 3,
     "metadata": {},
     "output_type": "execute_result"
    }
   ],
   "source": [
    "arr"
   ]
  },
  {
   "cell_type": "code",
   "execution_count": 4,
   "id": "bef96a42-1ae9-4d2d-95c5-16c679f6eafd",
   "metadata": {},
   "outputs": [],
   "source": [
    "arr1=np.random.randint(20,40,(5,6))"
   ]
  },
  {
   "cell_type": "code",
   "execution_count": 5,
   "id": "17fdccc3-c8c8-46a7-96f3-427b9f510113",
   "metadata": {},
   "outputs": [
    {
     "data": {
      "text/plain": [
       "array([[28, 31, 28, 36, 32, 38],\n",
       "       [33, 33, 25, 31, 21, 27],\n",
       "       [23, 33, 28, 31, 38, 25],\n",
       "       [22, 36, 25, 27, 22, 23],\n",
       "       [24, 27, 32, 35, 34, 26]])"
      ]
     },
     "execution_count": 5,
     "metadata": {},
     "output_type": "execute_result"
    }
   ],
   "source": [
    "arr1"
   ]
  },
  {
   "cell_type": "code",
   "execution_count": 6,
   "id": "8eb333aa-4be6-4a40-a69b-87133bb9aa8a",
   "metadata": {},
   "outputs": [
    {
     "data": {
      "text/plain": [
       "array([[14,  9, 11, 12,  8],\n",
       "       [15, 17, 12,  3,  9],\n",
       "       [19, 14,  1, 19,  3],\n",
       "       [16, 12,  6,  2,  3],\n",
       "       [ 2,  4, 18, 14,  1],\n",
       "       [ 7, 19,  5, 10, 10]])"
      ]
     },
     "execution_count": 6,
     "metadata": {},
     "output_type": "execute_result"
    }
   ],
   "source": [
    "arr.T"
   ]
  },
  {
   "cell_type": "code",
   "execution_count": 7,
   "id": "40144ae0-d658-4a2a-91ad-e350f001a938",
   "metadata": {},
   "outputs": [
    {
     "data": {
      "text/plain": [
       "array([14, 15, 19, 16,  2,  7,  9, 17, 14, 12,  4, 19, 11, 12,  1,  6, 18,\n",
       "        5, 12,  3, 19,  2, 14, 10,  8,  9,  3,  3,  1, 10])"
      ]
     },
     "execution_count": 7,
     "metadata": {},
     "output_type": "execute_result"
    }
   ],
   "source": [
    "arr.flatten()"
   ]
  },
  {
   "cell_type": "code",
   "execution_count": 12,
   "id": "dc0ea4c9-a13e-4ffd-9006-3bc1333bfa16",
   "metadata": {},
   "outputs": [
    {
     "data": {
      "text/plain": [
       "array([[[14, 15, 19, 16,  2,  7]],\n",
       "\n",
       "       [[ 9, 17, 14, 12,  4, 19]],\n",
       "\n",
       "       [[11, 12,  1,  6, 18,  5]],\n",
       "\n",
       "       [[12,  3, 19,  2, 14, 10]],\n",
       "\n",
       "       [[ 8,  9,  3,  3,  1, 10]]])"
      ]
     },
     "execution_count": 12,
     "metadata": {},
     "output_type": "execute_result"
    }
   ],
   "source": [
    "np.expand_dims(arr,axis=1)"
   ]
  },
  {
   "cell_type": "code",
   "execution_count": 14,
   "id": "1c887940-0989-4534-a59f-f106b92b9fdc",
   "metadata": {},
   "outputs": [],
   "source": [
    "data=np.array([[1],[2],[3]])"
   ]
  },
  {
   "cell_type": "code",
   "execution_count": 15,
   "id": "56108155-73fe-47f4-8cf2-abcfca8af41b",
   "metadata": {},
   "outputs": [
    {
     "data": {
      "text/plain": [
       "array([1, 2, 3])"
      ]
     },
     "execution_count": 15,
     "metadata": {},
     "output_type": "execute_result"
    }
   ],
   "source": [
    "np.squeeze(data)"
   ]
  },
  {
   "cell_type": "code",
   "execution_count": 16,
   "id": "f2f3bd09-798e-49d3-8534-f2f371d7906b",
   "metadata": {},
   "outputs": [
    {
     "data": {
      "text/plain": [
       "array([1, 1, 1, 1, 2, 2, 2, 2, 3, 3, 3, 3])"
      ]
     },
     "execution_count": 16,
     "metadata": {},
     "output_type": "execute_result"
    }
   ],
   "source": [
    "np.repeat(data,4)"
   ]
  },
  {
   "cell_type": "code",
   "execution_count": 17,
   "id": "c82e35ff-6084-4a89-b51f-e7aacb7889c2",
   "metadata": {},
   "outputs": [
    {
     "data": {
      "text/plain": [
       "array([[2],\n",
       "       [3],\n",
       "       [1]])"
      ]
     },
     "execution_count": 17,
     "metadata": {},
     "output_type": "execute_result"
    }
   ],
   "source": [
    "np.roll(data,2)"
   ]
  },
  {
   "cell_type": "code",
   "execution_count": 18,
   "id": "275acee0-8ffc-498f-a949-5edb93a713c0",
   "metadata": {},
   "outputs": [
    {
     "data": {
      "text/plain": [
       "array([[1, 0, 0, 0],\n",
       "       [0, 2, 0, 0],\n",
       "       [0, 0, 3, 0],\n",
       "       [0, 0, 0, 4]])"
      ]
     },
     "execution_count": 18,
     "metadata": {},
     "output_type": "execute_result"
    }
   ],
   "source": [
    "np.diag(np.array([1,2,3,4]))"
   ]
  },
  {
   "cell_type": "code",
   "execution_count": 19,
   "id": "a3da2ea0-2b54-4698-a8db-dc646e6ba679",
   "metadata": {},
   "outputs": [
    {
     "data": {
      "text/plain": [
       "array([[14, 15, 19, 16,  2,  7],\n",
       "       [ 9, 17, 14, 12,  4, 19],\n",
       "       [11, 12,  1,  6, 18,  5],\n",
       "       [12,  3, 19,  2, 14, 10],\n",
       "       [ 8,  9,  3,  3,  1, 10]])"
      ]
     },
     "execution_count": 19,
     "metadata": {},
     "output_type": "execute_result"
    }
   ],
   "source": [
    "arr"
   ]
  },
  {
   "cell_type": "code",
   "execution_count": 20,
   "id": "b011c17d-86a7-4902-9951-f1d08d0a0914",
   "metadata": {},
   "outputs": [
    {
     "data": {
      "text/plain": [
       "array([[28, 31, 28, 36, 32, 38],\n",
       "       [33, 33, 25, 31, 21, 27],\n",
       "       [23, 33, 28, 31, 38, 25],\n",
       "       [22, 36, 25, 27, 22, 23],\n",
       "       [24, 27, 32, 35, 34, 26]])"
      ]
     },
     "execution_count": 20,
     "metadata": {},
     "output_type": "execute_result"
    }
   ],
   "source": [
    "arr1"
   ]
  },
  {
   "cell_type": "code",
   "execution_count": 21,
   "id": "17fd2dfe-0d72-4dc0-8d61-8d936ab1e24f",
   "metadata": {},
   "outputs": [
    {
     "data": {
      "text/plain": [
       "array([[42, 46, 47, 52, 34, 45],\n",
       "       [42, 50, 39, 43, 25, 46],\n",
       "       [34, 45, 29, 37, 56, 30],\n",
       "       [34, 39, 44, 29, 36, 33],\n",
       "       [32, 36, 35, 38, 35, 36]])"
      ]
     },
     "execution_count": 21,
     "metadata": {},
     "output_type": "execute_result"
    }
   ],
   "source": [
    "arr+arr1"
   ]
  },
  {
   "cell_type": "code",
   "execution_count": 22,
   "id": "8c289980-5541-4aed-9a6c-ae71c8888822",
   "metadata": {},
   "outputs": [
    {
     "data": {
      "text/plain": [
       "array([[-14, -16,  -9, -20, -30, -31],\n",
       "       [-24, -16, -11, -19, -17,  -8],\n",
       "       [-12, -21, -27, -25, -20, -20],\n",
       "       [-10, -33,  -6, -25,  -8, -13],\n",
       "       [-16, -18, -29, -32, -33, -16]])"
      ]
     },
     "execution_count": 22,
     "metadata": {},
     "output_type": "execute_result"
    }
   ],
   "source": [
    "arr-arr1\n"
   ]
  },
  {
   "cell_type": "code",
   "execution_count": 24,
   "id": "7b2038e1-aff5-47ab-97d7-602c5067e828",
   "metadata": {},
   "outputs": [
    {
     "data": {
      "text/plain": [
       "array([[392, 465, 532, 576,  64, 266],\n",
       "       [297, 561, 350, 372,  84, 513],\n",
       "       [253, 396,  28, 186, 684, 125],\n",
       "       [264, 108, 475,  54, 308, 230],\n",
       "       [192, 243,  96, 105,  34, 260]])"
      ]
     },
     "execution_count": 24,
     "metadata": {},
     "output_type": "execute_result"
    }
   ],
   "source": [
    "arr*arr1"
   ]
  },
  {
   "cell_type": "code",
   "execution_count": 25,
   "id": "161fa0b4-c615-4e1a-9984-a189c1656d7c",
   "metadata": {},
   "outputs": [
    {
     "data": {
      "text/plain": [
       "array([[ 2339663274187948032, -8207802330756800273, -6131528708192907151,\n",
       "                           0,           4294967296,  4767239791123969681],\n",
       "       [ 4810798710570394889,  -589027242450939375, -7441037181604331520,\n",
       "        -4611686018427387904,        4398046511104,  2589931763838723563],\n",
       "       [ 6839173302027254275,                    0,                    1,\n",
       "        -6507783832580653056, -7943720547152560128,   298023223876953125],\n",
       "       [ 5729018530666381312,   150094635296999121,  4554986577074761267,\n",
       "                   134217728,  7049268766814765056,   200376420520689664],\n",
       "       [                   0, -8127490854706933095,     1853020188851841,\n",
       "           50031545098999707,                    1, -2537764290115403776]])"
      ]
     },
     "execution_count": 25,
     "metadata": {},
     "output_type": "execute_result"
    }
   ],
   "source": [
    "arr**arr1"
   ]
  },
  {
   "cell_type": "code",
   "execution_count": 23,
   "id": "4c852467-cb9a-4a1c-9ee6-6540b8ba4386",
   "metadata": {},
   "outputs": [
    {
     "data": {
      "text/plain": [
       "array([[0.5       , 0.48387097, 0.67857143, 0.44444444, 0.0625    ,\n",
       "        0.18421053],\n",
       "       [0.27272727, 0.51515152, 0.56      , 0.38709677, 0.19047619,\n",
       "        0.7037037 ],\n",
       "       [0.47826087, 0.36363636, 0.03571429, 0.19354839, 0.47368421,\n",
       "        0.2       ],\n",
       "       [0.54545455, 0.08333333, 0.76      , 0.07407407, 0.63636364,\n",
       "        0.43478261],\n",
       "       [0.33333333, 0.33333333, 0.09375   , 0.08571429, 0.02941176,\n",
       "        0.38461538]])"
      ]
     },
     "execution_count": 23,
     "metadata": {},
     "output_type": "execute_result"
    }
   ],
   "source": [
    "arr/arr1"
   ]
  },
  {
   "cell_type": "code",
   "execution_count": 26,
   "id": "bb34d70b-8a25-4f14-a185-65c33881d93e",
   "metadata": {},
   "outputs": [
    {
     "data": {
      "text/plain": [
       "array([[False, False, False, False, False, False],\n",
       "       [False, False, False, False, False, False],\n",
       "       [False, False, False, False, False, False],\n",
       "       [False, False, False, False, False, False],\n",
       "       [False, False, False, False, False, False]])"
      ]
     },
     "execution_count": 26,
     "metadata": {},
     "output_type": "execute_result"
    }
   ],
   "source": [
    "arr>arr1"
   ]
  },
  {
   "cell_type": "code",
   "execution_count": 27,
   "id": "ec415c08-d4b8-4136-90c2-389c3b328238",
   "metadata": {},
   "outputs": [
    {
     "data": {
      "text/plain": [
       "array([[ True,  True,  True,  True,  True,  True],\n",
       "       [ True,  True,  True,  True,  True,  True],\n",
       "       [ True,  True,  True,  True,  True,  True],\n",
       "       [ True,  True,  True,  True,  True,  True],\n",
       "       [ True,  True,  True,  True,  True,  True]])"
      ]
     },
     "execution_count": 27,
     "metadata": {},
     "output_type": "execute_result"
    }
   ],
   "source": [
    "arr<arr1"
   ]
  },
  {
   "cell_type": "code",
   "execution_count": 29,
   "id": "c9d71dd3-95f1-4ef8-a074-884218bba728",
   "metadata": {},
   "outputs": [],
   "source": [
    "arr2=np.array([\"himanshi\",\"kawade\"])"
   ]
  },
  {
   "cell_type": "code",
   "execution_count": 30,
   "id": "aa21a869-96f4-417a-a1d1-620c846bb072",
   "metadata": {},
   "outputs": [
    {
     "data": {
      "text/plain": [
       "array(['himanshi', 'kawade'], dtype='<U8')"
      ]
     },
     "execution_count": 30,
     "metadata": {},
     "output_type": "execute_result"
    }
   ],
   "source": [
    "arr2"
   ]
  },
  {
   "cell_type": "code",
   "execution_count": 31,
   "id": "72f064aa-ac7c-4e5e-b876-2601d6ebd570",
   "metadata": {},
   "outputs": [
    {
     "data": {
      "text/plain": [
       "array(['HIMANSHI', 'KAWADE'], dtype='<U8')"
      ]
     },
     "execution_count": 31,
     "metadata": {},
     "output_type": "execute_result"
    }
   ],
   "source": [
    "np.char.upper(arr2)"
   ]
  },
  {
   "cell_type": "code",
   "execution_count": 32,
   "id": "3d57b61e-b0bd-47fc-9892-c33ece48db54",
   "metadata": {},
   "outputs": [
    {
     "data": {
      "text/plain": [
       "array(['Himanshi', 'Kawade'], dtype='<U8')"
      ]
     },
     "execution_count": 32,
     "metadata": {},
     "output_type": "execute_result"
    }
   ],
   "source": [
    "np.char.capitalize(arr2)"
   ]
  },
  {
   "cell_type": "code",
   "execution_count": 33,
   "id": "db06ad79-c951-4996-8f4b-a5d57f3e2be8",
   "metadata": {},
   "outputs": [
    {
     "data": {
      "text/plain": [
       "array(['Himanshi', 'Kawade'], dtype='<U8')"
      ]
     },
     "execution_count": 33,
     "metadata": {},
     "output_type": "execute_result"
    }
   ],
   "source": [
    "np.char.title(arr2)"
   ]
  },
  {
   "cell_type": "code",
   "execution_count": 34,
   "id": "32572f26-085f-4937-83dd-16f8294b4657",
   "metadata": {},
   "outputs": [
    {
     "data": {
      "text/plain": [
       "array([[14, 15, 19, 16,  2,  7],\n",
       "       [ 9, 17, 14, 12,  4, 19],\n",
       "       [11, 12,  1,  6, 18,  5],\n",
       "       [12,  3, 19,  2, 14, 10],\n",
       "       [ 8,  9,  3,  3,  1, 10]])"
      ]
     },
     "execution_count": 34,
     "metadata": {},
     "output_type": "execute_result"
    }
   ],
   "source": [
    "arr"
   ]
  },
  {
   "cell_type": "code",
   "execution_count": 35,
   "id": "73630be9-e8b9-42f8-9ea4-17afe390829e",
   "metadata": {},
   "outputs": [
    {
     "data": {
      "text/plain": [
       "array([[ 0.99060736,  0.65028784,  0.14987721, -0.28790332,  0.90929743,\n",
       "         0.6569866 ],\n",
       "       [ 0.41211849, -0.96139749,  0.99060736, -0.53657292, -0.7568025 ,\n",
       "         0.14987721],\n",
       "       [-0.99999021, -0.53657292,  0.84147098, -0.2794155 , -0.75098725,\n",
       "        -0.95892427],\n",
       "       [-0.53657292,  0.14112001,  0.14987721,  0.90929743,  0.99060736,\n",
       "        -0.54402111],\n",
       "       [ 0.98935825,  0.41211849,  0.14112001,  0.14112001,  0.84147098,\n",
       "        -0.54402111]])"
      ]
     },
     "execution_count": 35,
     "metadata": {},
     "output_type": "execute_result"
    }
   ],
   "source": [
    "np.sin(arr)"
   ]
  },
  {
   "cell_type": "code",
   "execution_count": 36,
   "id": "ea55f130-3b59-4634-9fb3-5dd0db04b782",
   "metadata": {},
   "outputs": [
    {
     "data": {
      "text/plain": [
       "array([[ 0.13673722, -0.75968791,  0.98870462, -0.95765948, -0.41614684,\n",
       "         0.75390225],\n",
       "       [-0.91113026, -0.27516334,  0.13673722,  0.84385396, -0.65364362,\n",
       "         0.98870462],\n",
       "       [ 0.0044257 ,  0.84385396,  0.54030231,  0.96017029,  0.66031671,\n",
       "         0.28366219],\n",
       "       [ 0.84385396, -0.9899925 ,  0.98870462, -0.41614684,  0.13673722,\n",
       "        -0.83907153],\n",
       "       [-0.14550003, -0.91113026, -0.9899925 , -0.9899925 ,  0.54030231,\n",
       "        -0.83907153]])"
      ]
     },
     "execution_count": 36,
     "metadata": {},
     "output_type": "execute_result"
    }
   ],
   "source": [
    "np.cos(arr)"
   ]
  },
  {
   "cell_type": "code",
   "execution_count": 37,
   "id": "c217b635-6f75-439f-bb75-4020257290a7",
   "metadata": {},
   "outputs": [
    {
     "data": {
      "text/plain": [
       "array([[ 7.24460662e+00, -8.55993401e-01,  1.51589471e-01,\n",
       "         3.00632242e-01, -2.18503986e+00,  8.71447983e-01],\n",
       "       [-4.52315659e-01,  3.49391565e+00,  7.24460662e+00,\n",
       "        -6.35859929e-01,  1.15782128e+00,  1.51589471e-01],\n",
       "       [-2.25950846e+02, -6.35859929e-01,  1.55740772e+00,\n",
       "        -2.91006191e-01, -1.13731371e+00, -3.38051501e+00],\n",
       "       [-6.35859929e-01, -1.42546543e-01,  1.51589471e-01,\n",
       "        -2.18503986e+00,  7.24460662e+00,  6.48360827e-01],\n",
       "       [-6.79971146e+00, -4.52315659e-01, -1.42546543e-01,\n",
       "        -1.42546543e-01,  1.55740772e+00,  6.48360827e-01]])"
      ]
     },
     "execution_count": 37,
     "metadata": {},
     "output_type": "execute_result"
    }
   ],
   "source": [
    "np.tan(arr)"
   ]
  },
  {
   "cell_type": "code",
   "execution_count": 38,
   "id": "132caa7f-619e-4e8f-b958-7da536d13d7c",
   "metadata": {},
   "outputs": [
    {
     "data": {
      "text/plain": [
       "array([[1.14612804, 1.17609126, 1.2787536 , 1.20411998, 0.30103   ,\n",
       "        0.84509804],\n",
       "       [0.95424251, 1.23044892, 1.14612804, 1.07918125, 0.60205999,\n",
       "        1.2787536 ],\n",
       "       [1.04139269, 1.07918125, 0.        , 0.77815125, 1.25527251,\n",
       "        0.69897   ],\n",
       "       [1.07918125, 0.47712125, 1.2787536 , 0.30103   , 1.14612804,\n",
       "        1.        ],\n",
       "       [0.90308999, 0.95424251, 0.47712125, 0.47712125, 0.        ,\n",
       "        1.        ]])"
      ]
     },
     "execution_count": 38,
     "metadata": {},
     "output_type": "execute_result"
    }
   ],
   "source": [
    "np.log10(arr)"
   ]
  },
  {
   "cell_type": "code",
   "execution_count": 39,
   "id": "b92231f6-d34f-4b1b-bbf4-c6d9a416cd0c",
   "metadata": {},
   "outputs": [
    {
     "data": {
      "text/plain": [
       "array([[1.20260428e+06, 3.26901737e+06, 1.78482301e+08, 8.88611052e+06,\n",
       "        7.38905610e+00, 1.09663316e+03],\n",
       "       [8.10308393e+03, 2.41549528e+07, 1.20260428e+06, 1.62754791e+05,\n",
       "        5.45981500e+01, 1.78482301e+08],\n",
       "       [5.98741417e+04, 1.62754791e+05, 2.71828183e+00, 4.03428793e+02,\n",
       "        6.56599691e+07, 1.48413159e+02],\n",
       "       [1.62754791e+05, 2.00855369e+01, 1.78482301e+08, 7.38905610e+00,\n",
       "        1.20260428e+06, 2.20264658e+04],\n",
       "       [2.98095799e+03, 8.10308393e+03, 2.00855369e+01, 2.00855369e+01,\n",
       "        2.71828183e+00, 2.20264658e+04]])"
      ]
     },
     "execution_count": 39,
     "metadata": {},
     "output_type": "execute_result"
    }
   ],
   "source": [
    "np.exp(arr)"
   ]
  },
  {
   "cell_type": "code",
   "execution_count": 41,
   "id": "3c1a1f12-ca65-4c90-a87d-548a6791267a",
   "metadata": {},
   "outputs": [
    {
     "data": {
      "text/plain": [
       "array([[2744, 3375, 6859, 4096,    8,  343],\n",
       "       [ 729, 4913, 2744, 1728,   64, 6859],\n",
       "       [1331, 1728,    1,  216, 5832,  125],\n",
       "       [1728,   27, 6859,    8, 2744, 1000],\n",
       "       [ 512,  729,   27,   27,    1, 1000]])"
      ]
     },
     "execution_count": 41,
     "metadata": {},
     "output_type": "execute_result"
    }
   ],
   "source": [
    "np.power(arr,3)"
   ]
  },
  {
   "cell_type": "code",
   "execution_count": 44,
   "id": "3cc2faec-227a-4f0a-87f8-2a1255706ce5",
   "metadata": {},
   "outputs": [
    {
     "data": {
      "text/plain": [
       "1"
      ]
     },
     "execution_count": 44,
     "metadata": {},
     "output_type": "execute_result"
    }
   ],
   "source": [
    "np.min(arr)"
   ]
  },
  {
   "cell_type": "code",
   "execution_count": 45,
   "id": "b257172e-4756-45ec-9159-c058c426045f",
   "metadata": {},
   "outputs": [
    {
     "data": {
      "text/plain": [
       "19"
      ]
     },
     "execution_count": 45,
     "metadata": {},
     "output_type": "execute_result"
    }
   ],
   "source": [
    "np.max(arr)"
   ]
  },
  {
   "cell_type": "code",
   "execution_count": 46,
   "id": "420d2d4b-6f31-47da-a508-95f19cadd056",
   "metadata": {},
   "outputs": [
    {
     "data": {
      "text/plain": [
       "5.791276965306433"
      ]
     },
     "execution_count": 46,
     "metadata": {},
     "output_type": "execute_result"
    }
   ],
   "source": [
    "np.std(arr)"
   ]
  },
  {
   "cell_type": "code",
   "execution_count": 47,
   "id": "971a04e7-ad31-45d7-aecf-c9f0f27b029e",
   "metadata": {},
   "outputs": [
    {
     "data": {
      "text/plain": [
       "33.53888888888889"
      ]
     },
     "execution_count": 47,
     "metadata": {},
     "output_type": "execute_result"
    }
   ],
   "source": [
    "np.var(arr)"
   ]
  },
  {
   "cell_type": "code",
   "execution_count": 49,
   "id": "82443099-669a-4c17-923b-e73a70998489",
   "metadata": {},
   "outputs": [
    {
     "data": {
      "text/plain": [
       "10.0"
      ]
     },
     "execution_count": 49,
     "metadata": {},
     "output_type": "execute_result"
    }
   ],
   "source": [
    "np.median(arr)"
   ]
  },
  {
   "cell_type": "code",
   "execution_count": 51,
   "id": "e2c06562-ffb6-4000-b6c5-55a68f4a836e",
   "metadata": {},
   "outputs": [
    {
     "data": {
      "text/plain": [
       "array([[-14, -16,  -9, -20, -30, -31],\n",
       "       [-24, -16, -11, -19, -17,  -8],\n",
       "       [-12, -21, -27, -25, -20, -20],\n",
       "       [-10, -33,  -6, -25,  -8, -13],\n",
       "       [-16, -18, -29, -32, -33, -16]])"
      ]
     },
     "execution_count": 51,
     "metadata": {},
     "output_type": "execute_result"
    }
   ],
   "source": [
    "np.subtract(arr,arr1)"
   ]
  },
  {
   "cell_type": "code",
   "execution_count": 52,
   "id": "782682f0-38cb-4c36-abb3-ac5fbc88a520",
   "metadata": {},
   "outputs": [
    {
     "data": {
      "text/plain": [
       "array([[392, 465, 532, 576,  64, 266],\n",
       "       [297, 561, 350, 372,  84, 513],\n",
       "       [253, 396,  28, 186, 684, 125],\n",
       "       [264, 108, 475,  54, 308, 230],\n",
       "       [192, 243,  96, 105,  34, 260]])"
      ]
     },
     "execution_count": 52,
     "metadata": {},
     "output_type": "execute_result"
    }
   ],
   "source": [
    "np.multiply(arr,arr1)"
   ]
  },
  {
   "cell_type": "code",
   "execution_count": 53,
   "id": "f32b202f-f896-4378-af8a-36c14671169c",
   "metadata": {},
   "outputs": [
    {
     "data": {
      "text/plain": [
       "array([[14, 15, 19, 16,  2,  7],\n",
       "       [ 9, 17, 14, 12,  4, 19],\n",
       "       [11, 12,  1,  6, 18,  5],\n",
       "       [12,  3, 19,  2, 14, 10],\n",
       "       [ 8,  9,  3,  3,  1, 10]])"
      ]
     },
     "execution_count": 53,
     "metadata": {},
     "output_type": "execute_result"
    }
   ],
   "source": [
    "np.mod(arr,arr1)"
   ]
  },
  {
   "cell_type": "code",
   "execution_count": 54,
   "id": "f9dceb15-c92a-409f-82d0-59e393a02deb",
   "metadata": {},
   "outputs": [
    {
     "data": {
      "text/plain": [
       "array([[ 2339663274187948032, -8207802330756800273, -6131528708192907151,\n",
       "                           0,           4294967296,  4767239791123969681],\n",
       "       [ 4810798710570394889,  -589027242450939375, -7441037181604331520,\n",
       "        -4611686018427387904,        4398046511104,  2589931763838723563],\n",
       "       [ 6839173302027254275,                    0,                    1,\n",
       "        -6507783832580653056, -7943720547152560128,   298023223876953125],\n",
       "       [ 5729018530666381312,   150094635296999121,  4554986577074761267,\n",
       "                   134217728,  7049268766814765056,   200376420520689664],\n",
       "       [                   0, -8127490854706933095,     1853020188851841,\n",
       "           50031545098999707,                    1, -2537764290115403776]])"
      ]
     },
     "execution_count": 54,
     "metadata": {},
     "output_type": "execute_result"
    }
   ],
   "source": [
    "np.power(arr,arr1)"
   ]
  },
  {
   "cell_type": "code",
   "execution_count": 55,
   "id": "5946ac94-98b2-4b19-be78-02da95b58281",
   "metadata": {},
   "outputs": [
    {
     "data": {
      "text/plain": [
       "array([[3.74165739, 3.87298335, 4.35889894, 4.        , 1.41421356,\n",
       "        2.64575131],\n",
       "       [3.        , 4.12310563, 3.74165739, 3.46410162, 2.        ,\n",
       "        4.35889894],\n",
       "       [3.31662479, 3.46410162, 1.        , 2.44948974, 4.24264069,\n",
       "        2.23606798],\n",
       "       [3.46410162, 1.73205081, 4.35889894, 1.41421356, 3.74165739,\n",
       "        3.16227766],\n",
       "       [2.82842712, 3.        , 1.73205081, 1.73205081, 1.        ,\n",
       "        3.16227766]])"
      ]
     },
     "execution_count": 55,
     "metadata": {},
     "output_type": "execute_result"
    }
   ],
   "source": [
    "np.sqrt(arr)"
   ]
  },
  {
   "cell_type": "code",
   "execution_count": null,
   "id": "5a63b76a-00e2-4964-8a10-106a67e0265d",
   "metadata": {},
   "outputs": [],
   "source": []
  }
 ],
 "metadata": {
  "kernelspec": {
   "display_name": "Python 3 (ipykernel)",
   "language": "python",
   "name": "python3"
  },
  "language_info": {
   "codemirror_mode": {
    "name": "ipython",
    "version": 3
   },
   "file_extension": ".py",
   "mimetype": "text/x-python",
   "name": "python",
   "nbconvert_exporter": "python",
   "pygments_lexer": "ipython3",
   "version": "3.10.8"
  }
 },
 "nbformat": 4,
 "nbformat_minor": 5
}
