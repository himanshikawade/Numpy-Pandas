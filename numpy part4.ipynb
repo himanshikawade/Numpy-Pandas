{
 "cells": [
  {
   "cell_type": "code",
   "execution_count": 1,
   "id": "1872ddff-ecdf-4b09-a435-c501ba42a649",
   "metadata": {},
   "outputs": [],
   "source": [
    "import numpy as np"
   ]
  },
  {
   "cell_type": "code",
   "execution_count": 2,
   "id": "05abc8fc-af39-4304-a87d-be2dc7e22746",
   "metadata": {},
   "outputs": [],
   "source": [
    "arr=np.array([2,3,4,5,61,56,15,21,98,32,10])"
   ]
  },
  {
   "cell_type": "code",
   "execution_count": 3,
   "id": "abadea39-69f8-4d52-a8dc-f687d4ecf082",
   "metadata": {},
   "outputs": [
    {
     "data": {
      "text/plain": [
       "array([ 2,  3,  4,  5, 61, 56, 15, 21, 98, 32, 10])"
      ]
     },
     "execution_count": 3,
     "metadata": {},
     "output_type": "execute_result"
    }
   ],
   "source": [
    "arr"
   ]
  },
  {
   "cell_type": "code",
   "execution_count": 4,
   "id": "ef39d189-fc0d-4d7a-a7c1-e1b7f2ae293e",
   "metadata": {},
   "outputs": [
    {
     "data": {
      "text/plain": [
       "array([ 2,  3,  4,  5, 10, 15, 21, 32, 56, 61, 98])"
      ]
     },
     "execution_count": 4,
     "metadata": {},
     "output_type": "execute_result"
    }
   ],
   "source": [
    "np.sort(arr)"
   ]
  },
  {
   "cell_type": "code",
   "execution_count": 6,
   "id": "817c13a4-f8da-4ddc-87af-c517a667900b",
   "metadata": {},
   "outputs": [
    {
     "data": {
      "text/plain": [
       "1"
      ]
     },
     "execution_count": 6,
     "metadata": {},
     "output_type": "execute_result"
    }
   ],
   "source": [
    "np.searchsorted(arr,3)"
   ]
  },
  {
   "cell_type": "code",
   "execution_count": 7,
   "id": "308e46fe-fa6e-4eed-bb3f-ccecb681e29c",
   "metadata": {},
   "outputs": [],
   "source": [
    "arr1=np.array([0,356,125,458,478,599,0,10,20,30,40])"
   ]
  },
  {
   "cell_type": "code",
   "execution_count": 8,
   "id": "c196b652-a549-4309-b07b-39d235e5e4db",
   "metadata": {},
   "outputs": [
    {
     "data": {
      "text/plain": [
       "9"
      ]
     },
     "execution_count": 8,
     "metadata": {},
     "output_type": "execute_result"
    }
   ],
   "source": [
    "np.count_nonzero(arr1)"
   ]
  },
  {
   "cell_type": "code",
   "execution_count": 11,
   "id": "60e20b73-9939-46e9-9540-32dc0f809b3f",
   "metadata": {},
   "outputs": [
    {
     "data": {
      "text/plain": [
       "(array([ 1,  2,  3,  4,  5,  7,  8,  9, 10]),)"
      ]
     },
     "execution_count": 11,
     "metadata": {},
     "output_type": "execute_result"
    }
   ],
   "source": [
    "np.where(arr1>2)"
   ]
  },
  {
   "cell_type": "code",
   "execution_count": 16,
   "id": "cee0efd6-d714-48fa-89d7-3c9a00398a3b",
   "metadata": {},
   "outputs": [
    {
     "data": {
      "text/plain": [
       "array([356, 125, 458, 478, 599,  10,  20,  30,  40])"
      ]
     },
     "execution_count": 16,
     "metadata": {},
     "output_type": "execute_result"
    }
   ],
   "source": [
    "np.extract(arr1>2,arr1)"
   ]
  },
  {
   "cell_type": "code",
   "execution_count": 18,
   "id": "0214c23d-2914-48df-95e3-2ca46b205629",
   "metadata": {},
   "outputs": [
    {
     "data": {
      "text/plain": [
       "array([                   0,  7206040878769504256,  9007199254740992000,\n",
       "       -3890828603071397888, -2449676722312839168,  6269573631253151744,\n",
       "                          0,   720575940379279360,  1441151880758558720,\n",
       "        2161727821137838080,  2882303761517117440])"
      ]
     },
     "execution_count": 18,
     "metadata": {},
     "output_type": "execute_result"
    }
   ],
   "source": [
    "arr1.byteswap()"
   ]
  },
  {
   "cell_type": "code",
   "execution_count": 19,
   "id": "19fc483e-4985-4a82-a231-e1e553225ff3",
   "metadata": {},
   "outputs": [],
   "source": [
    "a=np.copy(arr1)"
   ]
  },
  {
   "cell_type": "code",
   "execution_count": 20,
   "id": "015879a5-fe96-4492-8537-06371af27b2e",
   "metadata": {},
   "outputs": [
    {
     "data": {
      "text/plain": [
       "array([  0, 356, 125, 458, 478, 599,   0,  10,  20,  30,  40])"
      ]
     },
     "execution_count": 20,
     "metadata": {},
     "output_type": "execute_result"
    }
   ],
   "source": [
    "a"
   ]
  },
  {
   "cell_type": "code",
   "execution_count": 21,
   "id": "98f4a00b-e201-429a-8bee-12d576a98c10",
   "metadata": {},
   "outputs": [
    {
     "data": {
      "text/plain": [
       "array([  0, 356, 125, 458, 478, 599,   0,  10,  20,  30,  40])"
      ]
     },
     "execution_count": 21,
     "metadata": {},
     "output_type": "execute_result"
    }
   ],
   "source": [
    "arr1"
   ]
  },
  {
   "cell_type": "code",
   "execution_count": 22,
   "id": "d86ed253-14e0-405b-894d-4baba586bb52",
   "metadata": {},
   "outputs": [],
   "source": [
    "b=arr1.view()"
   ]
  },
  {
   "cell_type": "code",
   "execution_count": 23,
   "id": "d32fdbde-2892-4247-a23e-016b49e1ecd2",
   "metadata": {},
   "outputs": [
    {
     "data": {
      "text/plain": [
       "array([  0, 356, 125, 458, 478, 599,   0,  10,  20,  30,  40])"
      ]
     },
     "execution_count": 23,
     "metadata": {},
     "output_type": "execute_result"
    }
   ],
   "source": [
    "b"
   ]
  },
  {
   "cell_type": "code",
   "execution_count": 24,
   "id": "92e3a490-eb13-49d8-8565-cbd892718e2d",
   "metadata": {},
   "outputs": [],
   "source": [
    "b[0]=234"
   ]
  },
  {
   "cell_type": "code",
   "execution_count": 25,
   "id": "88e85fc3-9210-485a-abbb-6d393d8249d1",
   "metadata": {},
   "outputs": [
    {
     "data": {
      "text/plain": [
       "array([234, 356, 125, 458, 478, 599,   0,  10,  20,  30,  40])"
      ]
     },
     "execution_count": 25,
     "metadata": {},
     "output_type": "execute_result"
    }
   ],
   "source": [
    "b"
   ]
  },
  {
   "cell_type": "code",
   "execution_count": 26,
   "id": "63c54306-6be0-4d09-b225-2ddb6e5eea3d",
   "metadata": {},
   "outputs": [
    {
     "data": {
      "text/plain": [
       "array([234, 356, 125, 458, 478, 599,   0,  10,  20,  30,  40])"
      ]
     },
     "execution_count": 26,
     "metadata": {},
     "output_type": "execute_result"
    }
   ],
   "source": [
    "arr1"
   ]
  },
  {
   "cell_type": "code",
   "execution_count": 27,
   "id": "af8f921f-28a1-420f-a88b-96daedbc83a8",
   "metadata": {},
   "outputs": [],
   "source": [
    "b=arr1"
   ]
  },
  {
   "cell_type": "code",
   "execution_count": 28,
   "id": "7bfa467a-d483-4498-a873-6a6ad5c49d12",
   "metadata": {},
   "outputs": [],
   "source": [
    "a[1]=45"
   ]
  },
  {
   "cell_type": "code",
   "execution_count": 29,
   "id": "b7c0cdef-6c64-49d5-bdba-095e68b02754",
   "metadata": {},
   "outputs": [
    {
     "data": {
      "text/plain": [
       "array([  0,  45, 125, 458, 478, 599,   0,  10,  20,  30,  40])"
      ]
     },
     "execution_count": 29,
     "metadata": {},
     "output_type": "execute_result"
    }
   ],
   "source": [
    "a"
   ]
  },
  {
   "cell_type": "code",
   "execution_count": 30,
   "id": "d80f87f9-182a-4163-88ab-178bda0b7eca",
   "metadata": {},
   "outputs": [
    {
     "data": {
      "text/plain": [
       "array([234, 356, 125, 458, 478, 599,   0,  10,  20,  30,  40])"
      ]
     },
     "execution_count": 30,
     "metadata": {},
     "output_type": "execute_result"
    }
   ],
   "source": [
    "arr1"
   ]
  },
  {
   "cell_type": "code",
   "execution_count": 31,
   "id": "5eba870d-2fde-4793-bada-f2bd0615240f",
   "metadata": {},
   "outputs": [],
   "source": [
    "import numpy.matlib as nm"
   ]
  },
  {
   "cell_type": "code",
   "execution_count": 32,
   "id": "95efc42f-6f65-424a-92c1-a247d6339a5b",
   "metadata": {},
   "outputs": [
    {
     "data": {
      "text/plain": [
       "matrix([[1., 1., 1., 1.]])"
      ]
     },
     "execution_count": 32,
     "metadata": {},
     "output_type": "execute_result"
    }
   ],
   "source": [
    "nm.ones(4)"
   ]
  },
  {
   "cell_type": "code",
   "execution_count": 33,
   "id": "738819c6-8638-4adb-b57e-e896039342be",
   "metadata": {},
   "outputs": [
    {
     "data": {
      "text/plain": [
       "matrix([[1., 1., 1., 1.],\n",
       "        [1., 1., 1., 1.],\n",
       "        [1., 1., 1., 1.]])"
      ]
     },
     "execution_count": 33,
     "metadata": {},
     "output_type": "execute_result"
    }
   ],
   "source": [
    "nm.ones((3,4))"
   ]
  },
  {
   "cell_type": "code",
   "execution_count": 35,
   "id": "fe27dd75-f676-47f4-a703-be15f78c6bb6",
   "metadata": {},
   "outputs": [
    {
     "data": {
      "text/plain": [
       "matrix([[1., 0., 0., 0.],\n",
       "        [0., 1., 0., 0.],\n",
       "        [0., 0., 1., 0.],\n",
       "        [0., 0., 0., 1.]])"
      ]
     },
     "execution_count": 35,
     "metadata": {},
     "output_type": "execute_result"
    }
   ],
   "source": [
    "nm.eye(4)"
   ]
  },
  {
   "cell_type": "code",
   "execution_count": 36,
   "id": "91f5780a-79db-43d6-acbb-cc72ebe41a81",
   "metadata": {},
   "outputs": [
    {
     "data": {
      "text/plain": [
       "array([234, 356, 125, 458, 478, 599,   0,  10,  20,  30,  40])"
      ]
     },
     "execution_count": 36,
     "metadata": {},
     "output_type": "execute_result"
    }
   ],
   "source": [
    "arr1"
   ]
  },
  {
   "cell_type": "code",
   "execution_count": 37,
   "id": "8bceff34-773e-4ff9-91a9-7f3b8be2d8e6",
   "metadata": {},
   "outputs": [],
   "source": [
    "arr2=np.array([10,20,30,40,50,60,70,80,90,10,110])"
   ]
  },
  {
   "cell_type": "code",
   "execution_count": 38,
   "id": "372af6bb-5ada-4655-9b51-4c59360719a6",
   "metadata": {},
   "outputs": [
    {
     "data": {
      "text/plain": [
       "array([ 10,  20,  30,  40,  50,  60,  70,  80,  90,  10, 110])"
      ]
     },
     "execution_count": 38,
     "metadata": {},
     "output_type": "execute_result"
    }
   ],
   "source": [
    "arr2"
   ]
  },
  {
   "cell_type": "code",
   "execution_count": 39,
   "id": "7781a6cd-34e0-42d0-907b-c42a4e8350ea",
   "metadata": {},
   "outputs": [
    {
     "data": {
      "text/plain": [
       "98670"
      ]
     },
     "execution_count": 39,
     "metadata": {},
     "output_type": "execute_result"
    }
   ],
   "source": [
    "np.dot(arr1,arr2)"
   ]
  },
  {
   "cell_type": "code",
   "execution_count": 40,
   "id": "3a8d3aa1-db57-4113-a987-64cc0eb71fb9",
   "metadata": {},
   "outputs": [],
   "source": [
    "arr3=np.random.randint([[2,3],[4,5]])"
   ]
  },
  {
   "cell_type": "code",
   "execution_count": 41,
   "id": "6884ef4d-7834-4986-9414-b6ce7ca07a43",
   "metadata": {},
   "outputs": [],
   "source": [
    "arr4=np.random.randint([[5,3],[2,5]])"
   ]
  },
  {
   "cell_type": "code",
   "execution_count": 42,
   "id": "345a9768-81f5-4f1c-8424-a73a31b5bb1b",
   "metadata": {},
   "outputs": [
    {
     "data": {
      "text/plain": [
       "array([[1, 1],\n",
       "       [3, 2]])"
      ]
     },
     "execution_count": 42,
     "metadata": {},
     "output_type": "execute_result"
    }
   ],
   "source": [
    "arr3"
   ]
  },
  {
   "cell_type": "code",
   "execution_count": 43,
   "id": "da554a92-8df2-4fe9-8acf-ba4ae1087d5c",
   "metadata": {},
   "outputs": [
    {
     "data": {
      "text/plain": [
       "array([[0, 1],\n",
       "       [0, 2]])"
      ]
     },
     "execution_count": 43,
     "metadata": {},
     "output_type": "execute_result"
    }
   ],
   "source": [
    "arr4"
   ]
  },
  {
   "cell_type": "code",
   "execution_count": 44,
   "id": "0824b124-ce51-4db0-afab-919ae0e89a0c",
   "metadata": {},
   "outputs": [
    {
     "data": {
      "text/plain": [
       "array([[0, 3],\n",
       "       [0, 7]])"
      ]
     },
     "execution_count": 44,
     "metadata": {},
     "output_type": "execute_result"
    }
   ],
   "source": [
    "np.dot(arr3,arr4)"
   ]
  },
  {
   "cell_type": "code",
   "execution_count": 45,
   "id": "8c1ce7f8-a7c1-4e60-b752-66a845c8f65b",
   "metadata": {},
   "outputs": [
    {
     "data": {
      "text/plain": [
       "array([[0, 3],\n",
       "       [0, 7]])"
      ]
     },
     "execution_count": 45,
     "metadata": {},
     "output_type": "execute_result"
    }
   ],
   "source": [
    "arr3@arr4"
   ]
  },
  {
   "cell_type": "code",
   "execution_count": null,
   "id": "33180205-6d8f-49ca-935c-ca3f7b53f8f1",
   "metadata": {},
   "outputs": [],
   "source": []
  }
 ],
 "metadata": {
  "kernelspec": {
   "display_name": "Python 3 (ipykernel)",
   "language": "python",
   "name": "python3"
  },
  "language_info": {
   "codemirror_mode": {
    "name": "ipython",
    "version": 3
   },
   "file_extension": ".py",
   "mimetype": "text/x-python",
   "name": "python",
   "nbconvert_exporter": "python",
   "pygments_lexer": "ipython3",
   "version": "3.10.8"
  }
 },
 "nbformat": 4,
 "nbformat_minor": 5
}
